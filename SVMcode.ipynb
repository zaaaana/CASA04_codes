{
  "nbformat": 4,
  "nbformat_minor": 0,
  "metadata": {
    "colab": {
      "name": "SVMcode.ipynb",
      "provenance": [],
      "collapsed_sections": [],
      "mount_file_id": "1SHjNhMknXI5qA4upQ-9eH2UFvnF47m7b",
      "authorship_tag": "ABX9TyPEhcjR5u/82ihOyIK+nKPl",
      "include_colab_link": true
    },
    "kernelspec": {
      "name": "python3",
      "display_name": "Python 3"
    }
  },
  "cells": [
    {
      "cell_type": "markdown",
      "metadata": {
        "id": "view-in-github",
        "colab_type": "text"
      },
      "source": [
        "<a href=\"https://colab.research.google.com/github/zaaaana/CASA04_codes/blob/master/SVMcode.ipynb\" target=\"_parent\"><img src=\"https://colab.research.google.com/assets/colab-badge.svg\" alt=\"Open In Colab\"/></a>"
      ]
    },
    {
      "cell_type": "markdown",
      "metadata": {
        "id": "dIO8x6-Eoqs1",
        "colab_type": "text"
      },
      "source": [
        "#Install necessary packages"
      ]
    },
    {
      "cell_type": "code",
      "metadata": {
        "id": "VXmnoL93eW91",
        "colab_type": "code",
        "colab": {}
      },
      "source": [
        "from sklearn.model_selection import train_test_split\n",
        "import numpy as np\n",
        "import pandas as pd\n",
        "from keras.models import Sequential\n",
        "from keras.layers import Dense, Activation, Flatten\n",
        "from sklearn.ensemble import RandomForestClassifier\n",
        "from sklearn.metrics import f1_score\n",
        "from sklearn.metrics import accuracy_score\n",
        "from keras.callbacks import ModelCheckpoint\n",
        "from sklearn.metrics import accuracy_score"
      ],
      "execution_count": null,
      "outputs": []
    },
    {
      "cell_type": "markdown",
      "metadata": {
        "id": "n4N9LORgoyfH",
        "colab_type": "text"
      },
      "source": [
        "## Load required dataset"
      ]
    },
    {
      "cell_type": "code",
      "metadata": {
        "id": "0R2bC_5Iev43",
        "colab_type": "code",
        "colab": {}
      },
      "source": [
        "dataset = pd.read_csv('')\n",
        "dataset = dataset.fillna(method='ffill')\n",
        "\n",
        "dataset.head()"
      ],
      "execution_count": null,
      "outputs": []
    },
    {
      "cell_type": "markdown",
      "metadata": {
        "id": "t7uyMqN7r9EB",
        "colab_type": "text"
      },
      "source": [
        "## Split dataset into training set and test set"
      ]
    },
    {
      "cell_type": "code",
      "metadata": {
        "id": "bsWR1Lcie1fA",
        "colab_type": "code",
        "colab": {}
      },
      "source": [
        "feature_cols = ['']\n",
        "X = dataset[feature_cols] # Features\n",
        "y = dataset[''] # Target variable\n",
        "\n",
        "X_train, X_test, y_train, y_test = train_test_split(X, y, test_size=0.3,random_state=109) # 70% training and 30% test"
      ],
      "execution_count": null,
      "outputs": []
    },
    {
      "cell_type": "markdown",
      "metadata": {
        "id": "Xmp5dbupsBX-",
        "colab_type": "text"
      },
      "source": [
        "## Run SVM"
      ]
    },
    {
      "cell_type": "code",
      "metadata": {
        "id": "Hp22DhwSgKb-",
        "colab_type": "code",
        "colab": {}
      },
      "source": [
        "#Import svm model\n",
        "from sklearn import svm\n",
        "\n",
        "#Create a svm Classifier\n",
        "clf = svm.SVC(kernel='linear') # Linear Kernel\n",
        "\n",
        "#Train the model using the training sets\n",
        "clf.fit(X_train, y_train)\n",
        "\n",
        "#Predict the response for test dataset\n",
        "y_pred = clf.predict(X_test)"
      ],
      "execution_count": null,
      "outputs": []
    },
    {
      "cell_type": "code",
      "metadata": {
        "id": "JWY43GNBm5EE",
        "colab_type": "code",
        "colab": {}
      },
      "source": [
        "from sklearn import metrics"
      ],
      "execution_count": null,
      "outputs": []
    },
    {
      "cell_type": "code",
      "metadata": {
        "id": "Cj0Jd3Tamw4r",
        "colab_type": "code",
        "colab": {}
      },
      "source": [
        "print(\"Accuracy:\", metrics.accuracy_score(y_test, y_pred))\n",
        "\n",
        "print(\"Precision:\", metrics.precision_score(y_test, y_pred))\n",
        "\n",
        "print(\"Recall:\", metrics.recall_score(y_test, y_pred))"
      ],
      "execution_count": null,
      "outputs": []
    }
  ]
}