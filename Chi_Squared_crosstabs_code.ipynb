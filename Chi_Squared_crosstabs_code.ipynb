{
  "nbformat": 4,
  "nbformat_minor": 0,
  "metadata": {
    "colab": {
      "name": "Chi Squared crosstabs code",
      "provenance": [],
      "collapsed_sections": [],
      "mount_file_id": "1j0IDI8YtFj58yI5BbcIFKFTcRdInfmSL",
      "authorship_tag": "ABX9TyPT3+dLw3BPGSWReW1z+MhI",
      "include_colab_link": true
    },
    "kernelspec": {
      "name": "python3",
      "display_name": "Python 3"
    }
  },
  "cells": [
    {
      "cell_type": "markdown",
      "metadata": {
        "id": "view-in-github",
        "colab_type": "text"
      },
      "source": [
        "<a href=\"https://colab.research.google.com/github/zaaaana/CASA04_codes/blob/master/Chi_Squared_crosstabs_code.ipynb\" target=\"_parent\"><img src=\"https://colab.research.google.com/assets/colab-badge.svg\" alt=\"Open In Colab\"/></a>"
      ]
    },
    {
      "cell_type": "code",
      "metadata": {
        "id": "asCGjNUEMg5e",
        "colab_type": "code",
        "colab": {}
      },
      "source": [
        "import pandas as pd\n",
        "\n",
        "# chi-squared test with similar proportions\n",
        "from scipy.stats import chi2_contingency\n",
        "from scipy.stats import chi2"
      ],
      "execution_count": null,
      "outputs": []
    },
    {
      "cell_type": "code",
      "metadata": {
        "id": "gvs9IZoENV8f",
        "colab_type": "code",
        "colab": {}
      },
      "source": [
        "df = pd.read_csv('')\n",
        "\n",
        "df.head(5)"
      ],
      "execution_count": null,
      "outputs": []
    },
    {
      "cell_type": "code",
      "metadata": {
        "id": "LbEr64y_ORkD",
        "colab_type": "code",
        "colab": {}
      },
      "source": [
        "stat, p, dof, expected = chi2_contingency(df)\n",
        "print('dof=%d' % dof)\n",
        "print(expected)\n",
        "# interpret test-statistic\n",
        "prob = 0.95\n",
        "critical = chi2.ppf(prob, dof)\n",
        "print('probability=%.3f, critical=%.3f, stat=%.3f' % (prob, critical, stat))\n",
        "if abs(stat) >= critical:\n",
        "\tprint('Dependent (reject H0)')\n",
        "else:\n",
        "\tprint('Independent (fail to reject H0)')\n",
        "# interpret p-value\n",
        "alpha = 1.0 - prob\n",
        "print('significance=%.3f, p=%.3f' % (alpha, p))\n",
        "if p <= alpha:\n",
        "\tprint('Dependent (reject H0)')\n",
        "else:\n",
        "\tprint('Independent (fail to reject H0)')"
      ],
      "execution_count": null,
      "outputs": []
    },
    {
      "cell_type": "code",
      "metadata": {
        "id": "VV_P-j7HzEHe",
        "colab_type": "code",
        "colab": {}
      },
      "source": [
        "print(critical)"
      ],
      "execution_count": null,
      "outputs": []
    },
    {
      "cell_type": "markdown",
      "metadata": {
        "id": "wJ38vd8lCh4s",
        "colab_type": "text"
      },
      "source": [
        "# Cross-tabulation\n"
      ]
    },
    {
      "cell_type": "markdown",
      "metadata": {
        "id": "ZFI_H1m3Hqj-",
        "colab_type": "text"
      },
      "source": [
        "## Gender crosstabs\n"
      ]
    },
    {
      "cell_type": "code",
      "metadata": {
        "id": "4J2tuvzbDlEw",
        "colab_type": "code",
        "colab": {}
      },
      "source": [
        "pip install researchpy"
      ],
      "execution_count": null,
      "outputs": []
    },
    {
      "cell_type": "code",
      "metadata": {
        "id": "C53kx-0bD14c",
        "colab_type": "code",
        "colab": {}
      },
      "source": [
        "import researchpy as rp"
      ],
      "execution_count": null,
      "outputs": []
    },
    {
      "cell_type": "code",
      "metadata": {
        "id": "709YLYWCCnwy",
        "colab_type": "code",
        "colab": {}
      },
      "source": [
        "original = pd.read_csv('')\n",
        "\n",
        "original.head(4)"
      ],
      "execution_count": null,
      "outputs": []
    },
    {
      "cell_type": "code",
      "metadata": {
        "id": "U8onkkdwDWHW",
        "colab_type": "code",
        "colab": {}
      },
      "source": [
        "crosstab, test_results, expected = rp.crosstab(original[\"Sex_B01ID\"], original[\"SC_B01ID\"],\n",
        "                                               test= \"chi-square\",\n",
        "                                               expected_freqs= True,\n",
        "                                               prop= \"cell\")\n",
        "\n",
        "crosstab"
      ],
      "execution_count": null,
      "outputs": []
    },
    {
      "cell_type": "code",
      "metadata": {
        "id": "ytSOz7yjD95P",
        "colab_type": "code",
        "colab": {}
      },
      "source": [
        "test_results"
      ],
      "execution_count": null,
      "outputs": []
    },
    {
      "cell_type": "code",
      "metadata": {
        "id": "XCxbDBQTFmxG",
        "colab_type": "code",
        "colab": {}
      },
      "source": [
        "crosstab, test_results, expected = rp.crosstab(original[\"Sex_B01ID\"], original[\"Age_B04ID\"],\n",
        "                                               test= \"chi-square\",\n",
        "                                               expected_freqs= True,\n",
        "                                               prop= \"cell\")\n",
        "\n",
        "crosstab"
      ],
      "execution_count": null,
      "outputs": []
    },
    {
      "cell_type": "code",
      "metadata": {
        "id": "cTlwbM4nFwWz",
        "colab_type": "code",
        "colab": {}
      },
      "source": [
        "test_results"
      ],
      "execution_count": null,
      "outputs": []
    },
    {
      "cell_type": "code",
      "metadata": {
        "id": "sx49cFxZF48B",
        "colab_type": "code",
        "colab": {}
      },
      "source": [
        "crosstab, test_results, expected = rp.crosstab(original[\"Sex_B01ID\"], original[\"CarWM_B01ID\"],\n",
        "                                               test= \"chi-square\",\n",
        "                                               expected_freqs= True,\n",
        "                                               prop= \"cell\")\n",
        "\n",
        "crosstab"
      ],
      "execution_count": null,
      "outputs": []
    },
    {
      "cell_type": "code",
      "metadata": {
        "id": "WD5OHijBF9Xu",
        "colab_type": "code",
        "colab": {}
      },
      "source": [
        "test_results"
      ],
      "execution_count": null,
      "outputs": []
    },
    {
      "cell_type": "code",
      "metadata": {
        "id": "LCURU-84GYUq",
        "colab_type": "code",
        "colab": {}
      },
      "source": [
        "crosstab, test_results, expected = rp.crosstab(original[\"Sex_B01ID\"], original[\"OthWM_B01ID\"],\n",
        "                                               test= \"chi-square\",\n",
        "                                               expected_freqs= True,\n",
        "                                               prop= \"cell\")\n",
        "\n",
        "crosstab"
      ],
      "execution_count": null,
      "outputs": []
    },
    {
      "cell_type": "code",
      "metadata": {
        "id": "5UZYf5DhGecx",
        "colab_type": "code",
        "colab": {}
      },
      "source": [
        "test_results"
      ],
      "execution_count": null,
      "outputs": []
    },
    {
      "cell_type": "code",
      "metadata": {
        "id": "9RDYfFdeGpJ0",
        "colab_type": "code",
        "colab": {}
      },
      "source": [
        "crosstab, test_results, expected = rp.crosstab(original[\"Sex_B01ID\"], original[\"IndWkGOR_B02ID\"],\n",
        "                                               test= \"chi-square\",\n",
        "                                               expected_freqs= True,\n",
        "                                               prop= \"cell\")\n",
        "\n",
        "crosstab"
      ],
      "execution_count": null,
      "outputs": []
    },
    {
      "cell_type": "code",
      "metadata": {
        "id": "P7ewXtnhG1O5",
        "colab_type": "code",
        "colab": {}
      },
      "source": [
        "test_results"
      ],
      "execution_count": null,
      "outputs": []
    },
    {
      "cell_type": "code",
      "metadata": {
        "id": "4fcpXdIOHC4H",
        "colab_type": "code",
        "colab": {}
      },
      "source": [
        "crosstab, test_results, expected = rp.crosstab(original[\"Sex_B01ID\"], original[\"WkPlace_B01ID\"],\n",
        "                                               test= \"chi-square\",\n",
        "                                               expected_freqs= True,\n",
        "                                               prop= \"cell\")\n",
        "\n",
        "crosstab"
      ],
      "execution_count": null,
      "outputs": []
    },
    {
      "cell_type": "code",
      "metadata": {
        "id": "xXRbQNQcHNwa",
        "colab_type": "code",
        "colab": {}
      },
      "source": [
        "test_results"
      ],
      "execution_count": null,
      "outputs": []
    },
    {
      "cell_type": "code",
      "metadata": {
        "id": "3mv9xvBhHW_M",
        "colab_type": "code",
        "colab": {}
      },
      "source": [
        "crosstab, test_results, expected = rp.crosstab(original[\"Sex_B01ID\"], original[\"HHoldGOR_B02ID\"],\n",
        "                                               test= \"chi-square\",\n",
        "                                               expected_freqs= True,\n",
        "                                               prop= \"cell\")\n",
        "\n",
        "crosstab"
      ],
      "execution_count": null,
      "outputs": []
    },
    {
      "cell_type": "code",
      "metadata": {
        "id": "tBmsX2EmHb09",
        "colab_type": "code",
        "colab": {}
      },
      "source": [
        "test_results"
      ],
      "execution_count": null,
      "outputs": []
    },
    {
      "cell_type": "markdown",
      "metadata": {
        "id": "iN8AjmxZHk0w",
        "colab_type": "text"
      },
      "source": [
        "## Social Class crosstabs\n",
        "\n"
      ]
    },
    {
      "cell_type": "code",
      "metadata": {
        "id": "VSan9pCfH1Ag",
        "colab_type": "code",
        "colab": {}
      },
      "source": [
        "crosstab, test_results, expected = rp.crosstab(original[\"SC_B01ID\"], original[\"Sex_B01ID\"],\n",
        "                                               test= \"chi-square\",\n",
        "                                               expected_freqs= True,\n",
        "                                               prop= \"cell\")\n",
        "\n",
        "crosstab"
      ],
      "execution_count": null,
      "outputs": []
    },
    {
      "cell_type": "code",
      "metadata": {
        "id": "TaX0D0f4H912",
        "colab_type": "code",
        "colab": {}
      },
      "source": [
        "test_results"
      ],
      "execution_count": null,
      "outputs": []
    },
    {
      "cell_type": "code",
      "metadata": {
        "id": "NsuSQLFDIJ16",
        "colab_type": "code",
        "colab": {}
      },
      "source": [
        "crosstab, test_results, expected = rp.crosstab(original[\"SC_B01ID\"], original[\"Age_B04ID\"],\n",
        "                                               test= \"chi-square\",\n",
        "                                               expected_freqs= True,\n",
        "                                               prop= \"cell\")\n",
        "\n",
        "crosstab"
      ],
      "execution_count": null,
      "outputs": []
    },
    {
      "cell_type": "code",
      "metadata": {
        "id": "E1V1FHfLIKKz",
        "colab_type": "code",
        "colab": {}
      },
      "source": [
        "test_results"
      ],
      "execution_count": null,
      "outputs": []
    },
    {
      "cell_type": "code",
      "metadata": {
        "id": "cI3gWA4IImLb",
        "colab_type": "code",
        "colab": {}
      },
      "source": [
        "crosstab, test_results, expected = rp.crosstab(original[\"SC_B01ID\"], original[\"CarWM_B01ID\"],\n",
        "                                               test= \"chi-square\",\n",
        "                                               expected_freqs= True,\n",
        "                                               prop= \"cell\")\n",
        "\n",
        "crosstab"
      ],
      "execution_count": null,
      "outputs": []
    },
    {
      "cell_type": "code",
      "metadata": {
        "id": "ghZ_2eYiImj2",
        "colab_type": "code",
        "colab": {}
      },
      "source": [
        "test_results"
      ],
      "execution_count": null,
      "outputs": []
    },
    {
      "cell_type": "code",
      "metadata": {
        "id": "LklwGI6YJdg7",
        "colab_type": "code",
        "colab": {}
      },
      "source": [
        "crosstab, test_results, expected = rp.crosstab(original[\"SC_B01ID\"], original[\"OthWM_B01ID\"],\n",
        "                                               test= \"chi-square\",\n",
        "                                               expected_freqs= True,\n",
        "                                               prop= \"cell\")\n",
        "\n",
        "crosstab"
      ],
      "execution_count": null,
      "outputs": []
    },
    {
      "cell_type": "code",
      "metadata": {
        "id": "k1NIaqcjJgrR",
        "colab_type": "code",
        "colab": {}
      },
      "source": [
        "test_results"
      ],
      "execution_count": null,
      "outputs": []
    },
    {
      "cell_type": "code",
      "metadata": {
        "id": "aD0yKj50Jm6K",
        "colab_type": "code",
        "colab": {}
      },
      "source": [
        "crosstab, test_results, expected = rp.crosstab(original[\"SC_B01ID\"], original[\"WkPlace_B01ID\"],\n",
        "                                               test= \"chi-square\",\n",
        "                                               expected_freqs= True,\n",
        "                                               prop= \"cell\")\n",
        "\n",
        "crosstab"
      ],
      "execution_count": null,
      "outputs": []
    },
    {
      "cell_type": "code",
      "metadata": {
        "id": "U7gg24JmJmuo",
        "colab_type": "code",
        "colab": {}
      },
      "source": [
        "test_results"
      ],
      "execution_count": null,
      "outputs": []
    },
    {
      "cell_type": "code",
      "metadata": {
        "id": "1y-PvPUtJ3IR",
        "colab_type": "code",
        "colab": {}
      },
      "source": [
        "crosstab, test_results, expected = rp.crosstab(original[\"SC_B01ID\"], original[\"IndWkGOR_B02ID\"],\n",
        "                                               test= \"chi-square\",\n",
        "                                               expected_freqs= True,\n",
        "                                               prop= \"cell\")\n",
        "\n",
        "crosstab"
      ],
      "execution_count": null,
      "outputs": []
    },
    {
      "cell_type": "code",
      "metadata": {
        "id": "BCfnJ2RTJ_Ed",
        "colab_type": "code",
        "colab": {}
      },
      "source": [
        "test_results"
      ],
      "execution_count": null,
      "outputs": []
    },
    {
      "cell_type": "code",
      "metadata": {
        "id": "YI-zNVD1KE5m",
        "colab_type": "code",
        "colab": {}
      },
      "source": [
        "crosstab, test_results, expected = rp.crosstab(original[\"SC_B01ID\"], original[\"HHoldGOR_B02ID\"],\n",
        "                                               test= \"chi-square\",\n",
        "                                               expected_freqs= True,\n",
        "                                               prop= \"cell\")\n",
        "\n",
        "crosstab"
      ],
      "execution_count": null,
      "outputs": []
    },
    {
      "cell_type": "code",
      "metadata": {
        "id": "92X8bAKqKH2C",
        "colab_type": "code",
        "colab": {}
      },
      "source": [
        "test_results"
      ],
      "execution_count": null,
      "outputs": []
    },
    {
      "cell_type": "markdown",
      "metadata": {
        "id": "9Nshb98KKTEg",
        "colab_type": "text"
      },
      "source": [
        "##Age band crosstab\n"
      ]
    },
    {
      "cell_type": "code",
      "metadata": {
        "id": "gVFMlTXBKVyf",
        "colab_type": "code",
        "colab": {}
      },
      "source": [
        "crosstab, test_results, expected = rp.crosstab(original[\"Age_B04ID\"], original[\"Sex_B01ID\"],\n",
        "                                               test= \"chi-square\",\n",
        "                                               expected_freqs= True,\n",
        "                                               prop= \"cell\")\n",
        "\n",
        "crosstab"
      ],
      "execution_count": null,
      "outputs": []
    },
    {
      "cell_type": "code",
      "metadata": {
        "id": "mKMyULCLKZ6k",
        "colab_type": "code",
        "colab": {}
      },
      "source": [
        "test_results"
      ],
      "execution_count": null,
      "outputs": []
    },
    {
      "cell_type": "code",
      "metadata": {
        "id": "o44HRk0TKh9H",
        "colab_type": "code",
        "colab": {}
      },
      "source": [
        "crosstab, test_results, expected = rp.crosstab(original[\"Age_B04ID\"], original[\"SC_B01ID\"],\n",
        "                                               test= \"chi-square\",\n",
        "                                               expected_freqs= True,\n",
        "                                               prop= \"cell\")\n",
        "\n",
        "crosstab"
      ],
      "execution_count": null,
      "outputs": []
    },
    {
      "cell_type": "code",
      "metadata": {
        "id": "LVRlt7BCKloB",
        "colab_type": "code",
        "colab": {}
      },
      "source": [
        "test_results"
      ],
      "execution_count": null,
      "outputs": []
    },
    {
      "cell_type": "code",
      "metadata": {
        "id": "HdQd3faMK9W3",
        "colab_type": "code",
        "colab": {}
      },
      "source": [
        "crosstab, test_results, expected = rp.crosstab(original[\"Age_B04ID\"], original[\"CarWM_B01ID\"],\n",
        "                                               test= \"chi-square\",\n",
        "                                               expected_freqs= True,\n",
        "                                               prop= \"cell\")\n",
        "\n",
        "crosstab"
      ],
      "execution_count": null,
      "outputs": []
    },
    {
      "cell_type": "code",
      "metadata": {
        "id": "fKYcaz76LBQ6",
        "colab_type": "code",
        "colab": {}
      },
      "source": [
        "test_results"
      ],
      "execution_count": null,
      "outputs": []
    },
    {
      "cell_type": "code",
      "metadata": {
        "id": "gZvs-35MLsiv",
        "colab_type": "code",
        "colab": {}
      },
      "source": [
        "crosstab, test_results, expected = rp.crosstab(original[\"Age_B04ID\"], original[\"OthWM_B01ID\"],\n",
        "                                               test= \"chi-square\",\n",
        "                                               expected_freqs= True,\n",
        "                                               prop= \"cell\")\n",
        "\n",
        "crosstab"
      ],
      "execution_count": null,
      "outputs": []
    },
    {
      "cell_type": "code",
      "metadata": {
        "id": "xZs_Y1anLv_E",
        "colab_type": "code",
        "colab": {}
      },
      "source": [
        "test_results"
      ],
      "execution_count": null,
      "outputs": []
    },
    {
      "cell_type": "code",
      "metadata": {
        "id": "KWSDobXGL_QL",
        "colab_type": "code",
        "colab": {}
      },
      "source": [
        "crosstab, test_results, expected = rp.crosstab(original[\"Age_B04ID\"], original[\"WkPlace_B01ID\"],\n",
        "                                               test= \"chi-square\",\n",
        "                                               expected_freqs= True,\n",
        "                                               prop= \"cell\")\n",
        "\n",
        "crosstab"
      ],
      "execution_count": null,
      "outputs": []
    },
    {
      "cell_type": "code",
      "metadata": {
        "id": "_2XvnH3LMCs_",
        "colab_type": "code",
        "colab": {}
      },
      "source": [
        "test_results"
      ],
      "execution_count": null,
      "outputs": []
    },
    {
      "cell_type": "code",
      "metadata": {
        "id": "mJIziyUuMNlW",
        "colab_type": "code",
        "colab": {}
      },
      "source": [
        "crosstab, test_results, expected = rp.crosstab(original[\"Age_B04ID\"], original[\"IndWkGOR_B02ID\"],\n",
        "                                               test= \"chi-square\",\n",
        "                                               expected_freqs= True,\n",
        "                                               prop= \"cell\")\n",
        "\n",
        "crosstab"
      ],
      "execution_count": null,
      "outputs": []
    },
    {
      "cell_type": "code",
      "metadata": {
        "id": "_CexzMPxMQVg",
        "colab_type": "code",
        "colab": {}
      },
      "source": [
        "test_results"
      ],
      "execution_count": null,
      "outputs": []
    },
    {
      "cell_type": "code",
      "metadata": {
        "id": "ZjPBHwRRMVz0",
        "colab_type": "code",
        "colab": {}
      },
      "source": [
        "crosstab, test_results, expected = rp.crosstab(original[\"Age_B04ID\"], original[\"HHoldGOR_B02ID\"],\n",
        "                                               test= \"chi-square\",\n",
        "                                               expected_freqs= True,\n",
        "                                               prop= \"cell\")\n",
        "\n",
        "crosstab"
      ],
      "execution_count": null,
      "outputs": []
    },
    {
      "cell_type": "code",
      "metadata": {
        "id": "gHVpkNu-MYdB",
        "colab_type": "code",
        "colab": {}
      },
      "source": [
        "test_results"
      ],
      "execution_count": null,
      "outputs": []
    },
    {
      "cell_type": "markdown",
      "metadata": {
        "id": "KPuJz9SHM3nq",
        "colab_type": "text"
      },
      "source": [
        "##Car trouble crosstabs\n"
      ]
    },
    {
      "cell_type": "code",
      "metadata": {
        "id": "VDwRW6cUM7DL",
        "colab_type": "code",
        "colab": {}
      },
      "source": [
        "crosstab, test_results, expected = rp.crosstab(original[\"CarWM_B01ID\"], original[\"OthWM_B01ID\"],\n",
        "                                               test= \"chi-square\",\n",
        "                                               expected_freqs= True,\n",
        "                                               prop= \"cell\")\n",
        "\n",
        "crosstab"
      ],
      "execution_count": null,
      "outputs": []
    },
    {
      "cell_type": "code",
      "metadata": {
        "id": "zexyb4T3NEDV",
        "colab_type": "code",
        "colab": {}
      },
      "source": [
        "test_results"
      ],
      "execution_count": null,
      "outputs": []
    },
    {
      "cell_type": "code",
      "metadata": {
        "id": "EjKacA2lNMK6",
        "colab_type": "code",
        "colab": {}
      },
      "source": [
        "crosstab, test_results, expected = rp.crosstab(original[\"CarWM_B01ID\"], original[\"WkPlace_B01ID\"],\n",
        "                                               test= \"chi-square\",\n",
        "                                               expected_freqs= True,\n",
        "                                               prop= \"cell\")\n",
        "\n",
        "crosstab"
      ],
      "execution_count": null,
      "outputs": []
    },
    {
      "cell_type": "code",
      "metadata": {
        "id": "gLK7msMYNOmr",
        "colab_type": "code",
        "colab": {}
      },
      "source": [
        "test_results"
      ],
      "execution_count": null,
      "outputs": []
    },
    {
      "cell_type": "code",
      "metadata": {
        "id": "zZICmg3NNVrQ",
        "colab_type": "code",
        "colab": {}
      },
      "source": [
        "crosstab, test_results, expected = rp.crosstab(original[\"CarWM_B01ID\"], original[\"IndWkGOR_B02ID\"],\n",
        "                                               test= \"chi-square\",\n",
        "                                               expected_freqs= True,\n",
        "                                               prop= \"cell\")\n",
        "\n",
        "crosstab"
      ],
      "execution_count": null,
      "outputs": []
    },
    {
      "cell_type": "code",
      "metadata": {
        "id": "S9HBYVk6NZBR",
        "colab_type": "code",
        "colab": {}
      },
      "source": [
        "test_results"
      ],
      "execution_count": null,
      "outputs": []
    },
    {
      "cell_type": "code",
      "metadata": {
        "id": "je_O8qnkNe_b",
        "colab_type": "code",
        "colab": {}
      },
      "source": [
        "crosstab, test_results, expected = rp.crosstab(original[\"CarWM_B01ID\"], original[\"HHoldGOR_B02ID\"],\n",
        "                                               test= \"chi-square\",\n",
        "                                               expected_freqs= True,\n",
        "                                               prop= \"cell\")\n",
        "\n",
        "crosstab"
      ],
      "execution_count": null,
      "outputs": []
    },
    {
      "cell_type": "code",
      "metadata": {
        "id": "ti90AkzxNe2O",
        "colab_type": "code",
        "colab": {}
      },
      "source": [
        "test_results"
      ],
      "execution_count": null,
      "outputs": []
    },
    {
      "cell_type": "markdown",
      "metadata": {
        "id": "iyJLk9vgN_VC",
        "colab_type": "text"
      },
      "source": [
        "## Other modes crosstabs\n",
        "\n"
      ]
    },
    {
      "cell_type": "code",
      "metadata": {
        "id": "GP3u1v-QOBsQ",
        "colab_type": "code",
        "colab": {}
      },
      "source": [
        "crosstab, test_results, expected = rp.crosstab(original[\"OthWM_B01ID\"], original[\"HHoldGOR_B02ID\"],\n",
        "                                               test= \"chi-square\",\n",
        "                                               expected_freqs= True,\n",
        "                                               prop= \"cell\")\n",
        "\n",
        "crosstab"
      ],
      "execution_count": null,
      "outputs": []
    },
    {
      "cell_type": "code",
      "metadata": {
        "id": "VN7lPhg8OK-G",
        "colab_type": "code",
        "colab": {}
      },
      "source": [
        "test_results"
      ],
      "execution_count": null,
      "outputs": []
    },
    {
      "cell_type": "code",
      "metadata": {
        "id": "0HSvRVnQOQZg",
        "colab_type": "code",
        "colab": {}
      },
      "source": [
        "crosstab, test_results, expected = rp.crosstab(original[\"OthWM_B01ID\"], original[\"IndWkGOR_B02ID\"],\n",
        "                                               test= \"chi-square\",\n",
        "                                               expected_freqs= True,\n",
        "                                               prop= \"cell\")\n",
        "\n",
        "crosstab"
      ],
      "execution_count": null,
      "outputs": []
    },
    {
      "cell_type": "code",
      "metadata": {
        "id": "ecHSgrMiOTgj",
        "colab_type": "code",
        "colab": {}
      },
      "source": [
        "test_results"
      ],
      "execution_count": null,
      "outputs": []
    },
    {
      "cell_type": "code",
      "metadata": {
        "id": "EqhMyrJLOiOX",
        "colab_type": "code",
        "colab": {}
      },
      "source": [
        "crosstab, test_results, expected = rp.crosstab(original[\"OthWM_B01ID\"], original[\"WkPlace_B01ID\"],\n",
        "                                               test= \"chi-square\",\n",
        "                                               expected_freqs= True,\n",
        "                                               prop= \"cell\")\n",
        "\n",
        "crosstab"
      ],
      "execution_count": null,
      "outputs": []
    },
    {
      "cell_type": "code",
      "metadata": {
        "id": "g1g1B9DNOpxj",
        "colab_type": "code",
        "colab": {}
      },
      "source": [
        "test_results"
      ],
      "execution_count": null,
      "outputs": []
    },
    {
      "cell_type": "markdown",
      "metadata": {
        "id": "hbDYNuG1O3Kc",
        "colab_type": "text"
      },
      "source": [
        "## Workplace Crosstabs\n"
      ]
    },
    {
      "cell_type": "code",
      "metadata": {
        "id": "n48eKuTVO2dR",
        "colab_type": "code",
        "colab": {}
      },
      "source": [
        "crosstab, test_results, expected = rp.crosstab(original[\"WkPlace_B01ID\"], original[\"IndWkGOR_B02ID\"],\n",
        "                                               test= \"chi-square\",\n",
        "                                               expected_freqs= True,\n",
        "                                               prop= \"cell\")\n",
        "\n",
        "crosstab"
      ],
      "execution_count": null,
      "outputs": []
    },
    {
      "cell_type": "code",
      "metadata": {
        "id": "UekI4JPpPB21",
        "colab_type": "code",
        "colab": {}
      },
      "source": [
        "test_results"
      ],
      "execution_count": null,
      "outputs": []
    },
    {
      "cell_type": "code",
      "metadata": {
        "id": "-fVTYINVPVGY",
        "colab_type": "code",
        "colab": {}
      },
      "source": [
        "crosstab, test_results, expected = rp.crosstab(original[\"WkPlace_B01ID\"], original[\"HHoldGOR_B02ID\"],\n",
        "                                               test= \"chi-square\",\n",
        "                                               expected_freqs= True,\n",
        "                                               prop= \"cell\")\n",
        "\n",
        "crosstab"
      ],
      "execution_count": null,
      "outputs": []
    },
    {
      "cell_type": "code",
      "metadata": {
        "id": "ARoGC4jZPac_",
        "colab_type": "code",
        "colab": {}
      },
      "source": [
        "test_results"
      ],
      "execution_count": null,
      "outputs": []
    },
    {
      "cell_type": "markdown",
      "metadata": {
        "id": "MEOhjS9SPkpn",
        "colab_type": "text"
      },
      "source": [
        "## Household crosstab\n"
      ]
    },
    {
      "cell_type": "code",
      "metadata": {
        "id": "ZUYQD-rTPkEo",
        "colab_type": "code",
        "colab": {}
      },
      "source": [
        "crosstab, test_results, expected = rp.crosstab(original[\"IndWkGOR_B02ID\"], original[\"HHoldGOR_B02ID\"],\n",
        "                                               test= \"chi-square\",\n",
        "                                               expected_freqs= True,\n",
        "                                               prop= \"cell\")\n",
        "\n",
        "crosstab"
      ],
      "execution_count": null,
      "outputs": []
    },
    {
      "cell_type": "code",
      "metadata": {
        "id": "ywQj9B37PySV",
        "colab_type": "code",
        "colab": {}
      },
      "source": [
        "test_results"
      ],
      "execution_count": null,
      "outputs": []
    }
  ]
}