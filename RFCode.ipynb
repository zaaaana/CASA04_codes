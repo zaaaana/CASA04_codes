{
  "nbformat": 4,
  "nbformat_minor": 0,
  "metadata": {
    "colab": {
      "name": "RFCode.ipynb",
      "provenance": [],
      "collapsed_sections": [],
      "include_colab_link": true
    },
    "kernelspec": {
      "name": "python3",
      "display_name": "Python 3"
    }
  },
  "cells": [
    {
      "cell_type": "markdown",
      "metadata": {
        "id": "view-in-github",
        "colab_type": "text"
      },
      "source": [
        "<a href=\"https://colab.research.google.com/github/zaaaana/CASA04_codes/blob/master/RFCode.ipynb\" target=\"_parent\"><img src=\"https://colab.research.google.com/assets/colab-badge.svg\" alt=\"Open In Colab\"/></a>"
      ]
    },
    {
      "cell_type": "markdown",
      "metadata": {
        "id": "gBS0ybHVXbyA",
        "colab_type": "text"
      },
      "source": [
        "#Random Forest Algorithm "
      ]
    },
    {
      "cell_type": "markdown",
      "metadata": {
        "id": "e4syv3jgZYSm",
        "colab_type": "text"
      },
      "source": [
        "## Import needed dependencies :"
      ]
    },
    {
      "cell_type": "code",
      "metadata": {
        "id": "Syg4fgOvQALJ",
        "colab_type": "code",
        "colab": {}
      },
      "source": [
        "from sklearn.model_selection import train_test_split\n",
        "import pandas as pd\n",
        "import numpy as np\n",
        "from keras.models import Sequential\n",
        "from keras.layers import Dense, Activation, Flatten\n",
        "from sklearn.ensemble import RandomForestClassifier\n",
        "from sklearn.metrics import f1_score\n",
        "from sklearn.metrics import accuracy_score\n",
        "from keras.callbacks import ModelCheckpoint\n",
        "from sklearn.metrics import accuracy_score\n",
        "from google.colab import drive"
      ],
      "execution_count": null,
      "outputs": []
    },
    {
      "cell_type": "markdown",
      "metadata": {
        "id": "OTLE1A0ZbTDd",
        "colab_type": "text"
      },
      "source": [
        "## Load the preprocessed dataset:"
      ]
    },
    {
      "cell_type": "code",
      "metadata": {
        "id": "dltOZJMAk60M",
        "colab_type": "code",
        "colab": {
          "base_uri": "https://localhost:8080/",
          "height": 34
        },
        "outputId": "1a788a52-bc4e-4019-ba32-3adbf31d574c"
      },
      "source": [
        "drive.mount('/content/drive')"
      ],
      "execution_count": null,
      "outputs": [
        {
          "output_type": "stream",
          "text": [
            "Drive already mounted at /content/drive; to attempt to forcibly remount, call drive.mount(\"/content/drive\", force_remount=True).\n"
          ],
          "name": "stdout"
        }
      ]
    },
    {
      "cell_type": "code",
      "metadata": {
        "id": "ejLlq_kdaJQg",
        "colab_type": "code",
        "colab": {}
      },
      "source": [
        "testing = pd.read_csv('')\n",
        "\n",
        "testing.head()"
      ],
      "execution_count": null,
      "outputs": []
    },
    {
      "cell_type": "code",
      "metadata": {
        "id": "gVn2I2f5aRUV",
        "colab_type": "code",
        "colab": {}
      },
      "source": [
        "y = testing['MainMode_B04ID']\n",
        "X = testing.drop(['MainMode_B04ID'], axis = 1)\n",
        "\n",
        "# Split the dataset to trainand test data\n",
        "train_X, test_X, train_y, test_y = train_test_split(X, y, test_size=0.35, random_state=0)"
      ],
      "execution_count": null,
      "outputs": []
    },
    {
      "cell_type": "markdown",
      "metadata": {
        "id": "ea71LIIVZmTt",
        "colab_type": "text"
      },
      "source": [
        "## Set the parameters for the random forest model :"
      ]
    },
    {
      "cell_type": "code",
      "metadata": {
        "id": "dCB7owS7ajaw",
        "colab_type": "code",
        "colab": {}
      },
      "source": [
        "#For mode choice\n",
        "\n",
        "parameters = {'bootstrap': True,\n",
        "              'min_samples_leaf': 1,\n",
        "              'n_estimators': 25, \n",
        "              'min_samples_split': 10,\n",
        "              'max_features': 'sqrt',\n",
        "              'max_depth': 19,\n",
        "              'max_leaf_nodes': None,\n",
        "              'criterion': 'entropy'}"
      ],
      "execution_count": null,
      "outputs": []
    },
    {
      "cell_type": "markdown",
      "metadata": {
        "id": "op9F-SETZyfP",
        "colab_type": "text"
      },
      "source": [
        "## Define the model :"
      ]
    },
    {
      "cell_type": "code",
      "metadata": {
        "id": "nrlHxayCZxqf",
        "colab_type": "code",
        "colab": {}
      },
      "source": [
        "RF_model = RandomForestClassifier(**parameters)"
      ],
      "execution_count": null,
      "outputs": []
    },
    {
      "cell_type": "markdown",
      "metadata": {
        "id": "Vz6LYxmnZ60C",
        "colab_type": "text"
      },
      "source": [
        "## Train the model :"
      ]
    },
    {
      "cell_type": "code",
      "metadata": {
        "id": "zfV_tFn_anYk",
        "colab_type": "code",
        "colab": {
          "base_uri": "https://localhost:8080/",
          "height": 151
        },
        "outputId": "4122309f-75b7-46bb-ae38-3b7b697bd5b0"
      },
      "source": [
        "RF_model.fit(train_X, train_y)"
      ],
      "execution_count": null,
      "outputs": [
        {
          "output_type": "execute_result",
          "data": {
            "text/plain": [
              "RandomForestClassifier(bootstrap=True, ccp_alpha=0.0, class_weight=None,\n",
              "                       criterion='entropy', max_depth=19, max_features='sqrt',\n",
              "                       max_leaf_nodes=None, max_samples=None,\n",
              "                       min_impurity_decrease=0.0, min_impurity_split=None,\n",
              "                       min_samples_leaf=1, min_samples_split=2,\n",
              "                       min_weight_fraction_leaf=0.0, n_estimators=25,\n",
              "                       n_jobs=None, oob_score=False, random_state=None,\n",
              "                       verbose=0, warm_start=False)"
            ]
          },
          "metadata": {
            "tags": []
          },
          "execution_count": 49
        }
      ]
    },
    {
      "cell_type": "markdown",
      "metadata": {
        "id": "XC4sNiZJaf0U",
        "colab_type": "text"
      },
      "source": [
        "## Test the trained model on test data :"
      ]
    },
    {
      "cell_type": "code",
      "metadata": {
        "id": "c8h0M5yNavnR",
        "colab_type": "code",
        "colab": {}
      },
      "source": [
        "RF_predictions = RF_model.predict(test_X)"
      ],
      "execution_count": null,
      "outputs": []
    },
    {
      "cell_type": "code",
      "metadata": {
        "id": "otf_5KAMayA0",
        "colab_type": "code",
        "colab": {
          "base_uri": "https://localhost:8080/",
          "height": 34
        },
        "outputId": "4b1dbb6a-5a45-46cc-d6f4-5bf6675aba4d"
      },
      "source": [
        "score = accuracy_score(test_y ,RF_predictions)\n",
        "print(score)"
      ],
      "execution_count": null,
      "outputs": [
        {
          "output_type": "stream",
          "text": [
            "0.48167778568854436\n"
          ],
          "name": "stdout"
        }
      ]
    },
    {
      "cell_type": "code",
      "metadata": {
        "id": "K8IQsYp_bJ4v",
        "colab_type": "code",
        "colab": {
          "base_uri": "https://localhost:8080/",
          "height": 353
        },
        "outputId": "ca995b97-f23d-414e-ded4-f7bbf0d0bc71"
      },
      "source": [
        "print(metrics.classification_report(RF_predictions, test_y))"
      ],
      "execution_count": null,
      "outputs": [
        {
          "output_type": "stream",
          "text": [
            "              precision    recall  f1-score   support\n",
            "\n",
            "           1       0.04      0.25      0.07      2195\n",
            "           2       0.02      0.19      0.04       254\n",
            "           3       0.90      0.51      0.65     98555\n",
            "           4       0.13      0.36      0.19     10401\n",
            "           5       0.03      0.24      0.06        63\n",
            "           6       0.03      0.22      0.06       172\n",
            "           7       0.15      0.41      0.21       507\n",
            "           8       0.04      0.28      0.07       948\n",
            "           9       0.00      0.00      0.00         7\n",
            "          10       0.05      0.24      0.08       175\n",
            "          11       0.02      0.13      0.03       214\n",
            "          12       0.02      0.18      0.04       207\n",
            "          13       0.07      0.27      0.11        71\n",
            "\n",
            "    accuracy                           0.48    113769\n",
            "   macro avg       0.12      0.25      0.12    113769\n",
            "weighted avg       0.79      0.48      0.58    113769\n",
            "\n"
          ],
          "name": "stdout"
        }
      ]
    },
    {
      "cell_type": "code",
      "metadata": {
        "id": "9iMouuHLeVas",
        "colab_type": "code",
        "colab": {
          "base_uri": "https://localhost:8080/",
          "height": 882
        },
        "outputId": "ef15fa4a-869d-4076-9b40-89d4c07c15bd"
      },
      "source": [
        "CM = confusion_matrix(test_y, RF_predictions)\n",
        "print(CM)\n",
        "\n",
        "# Visualize it as a heatmap\n",
        "#import seaborn\n",
        "plt.figure(figsize = (10, 7))\n",
        "sns.heatmap(CM, annot=True)"
      ],
      "execution_count": null,
      "outputs": [
        {
          "output_type": "stream",
          "text": [
            "[[  541    30 10761  1125     6    25    52   140     1    21    33    23\n",
            "      8]\n",
            " [   45    47  1689   147     0     5     6    17     0     0     2     2\n",
            "      0]\n",
            " [  738    80 49772  4058    28    41    89   268     3    47    75    61\n",
            "     21]\n",
            " [  466    59 25459  3791     7    45    67   211     2    34    45    41\n",
            "      9]\n",
            " [    9     1   364    50    15     0     1     5     0     0     1     1\n",
            "      0]\n",
            " [   12     2   938   114     0    38     6     2     0     0     0     6\n",
            "      0]\n",
            " [   54     6   991   129     0     2   208     0     1    18    10     2\n",
            "      8]\n",
            " [  178    18  5101   589     4    10     6   262     0     6     7    21\n",
            "      2]\n",
            " [    2     0    64     9     0     0     1     0     0     0     0     2\n",
            "      0]\n",
            " [   31     3   650    81     0     2    36     3     0    42    11     6\n",
            "      2]\n",
            " [   39     6  1248   129     3     1    21     9     0     4    28     4\n",
            "      1]\n",
            " [   64     2  1297   156     0     3    10    29     0     0     2    37\n",
            "      1]\n",
            " [   16     0   221    23     0     0     4     2     0     3     0     1\n",
            "     19]]\n"
          ],
          "name": "stdout"
        },
        {
          "output_type": "execute_result",
          "data": {
            "text/plain": [
              "<matplotlib.axes._subplots.AxesSubplot at 0x7f13f8881fd0>"
            ]
          },
          "metadata": {
            "tags": []
          },
          "execution_count": 54
        },
        {
          "output_type": "display_data",
          "data": {
            "image/png": "[encoded data removed]",
            "text/plain": [
              "<Figure size 720x504 with 2 Axes>"
            ]
          },
          "metadata": {
            "tags": [],
            "needs_background": "light"
          }
        }
      ]
    }
  ]
}