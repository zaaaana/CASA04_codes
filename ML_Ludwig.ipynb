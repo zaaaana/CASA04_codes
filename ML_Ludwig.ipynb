{
  "nbformat": 4,
  "nbformat_minor": 0,
  "metadata": {
    "colab": {
      "name": "Copy of Ludwig.ipynb",
      "provenance": [],
      "collapsed_sections": [],
      "mount_file_id": "1c-bzIuKHOrR0pbrha7FpmpKC7GO4rDPT",
      "authorship_tag": "ABX9TyNNlY2fzwepXecUreIUaCpp",
      "include_colab_link": true
    },
    "kernelspec": {
      "name": "python3",
      "display_name": "Python 3"
    }
  },
  "cells": [
    {
      "cell_type": "markdown",
      "metadata": {
        "id": "view-in-github",
        "colab_type": "text"
      },
      "source": [
        "<a href=\"https://colab.research.google.com/github/zaaaana/CASA04_codes/blob/master/ML_Ludwig.ipynb\" target=\"_parent\"><img src=\"https://colab.research.google.com/assets/colab-badge.svg\" alt=\"Open In Colab\"/></a>"
      ]
    },
    {
      "cell_type": "markdown",
      "metadata": {
        "id": "Ar2sS3TSvnZ9",
        "colab_type": "text"
      },
      "source": [
        "# Machine Learning with Uber Ludwig"
      ]
    },
    {
      "cell_type": "markdown",
      "metadata": {
        "id": "Wp5WRiSRvrwK",
        "colab_type": "text"
      },
      "source": [
        "## Import and install necessary dependencies"
      ]
    },
    {
      "cell_type": "code",
      "metadata": {
        "id": "IVxDmzmerf02",
        "colab_type": "code",
        "colab": {}
      },
      "source": [
        "pip install ludwig[full]"
      ],
      "execution_count": null,
      "outputs": []
    },
    {
      "cell_type": "code",
      "metadata": {
        "id": "Hm2HupdTuaId",
        "colab_type": "code",
        "colab": {}
      },
      "source": [
        "!wget https://raw.githubusercontent.com/ #the csv file must be imported from GitHub - opened and viewed in the RAW format"
      ],
      "execution_count": null,
      "outputs": []
    },
    {
      "cell_type": "code",
      "metadata": {
        "id": "IVV4_1L6uijt",
        "colab_type": "code",
        "colab": {}
      },
      "source": [
        "!wget https://raw.githubusercontent.com/ #the YAML file must be imported from Github - opened and viewed in the RAW format"
      ],
      "execution_count": null,
      "outputs": []
    },
    {
      "cell_type": "code",
      "metadata": {
        "id": "qbgWCSOMusx2",
        "colab_type": "code",
        "colab": {}
      },
      "source": [
        "!cat modeldefinition.yaml"
      ],
      "execution_count": null,
      "outputs": []
    },
    {
      "cell_type": "code",
      "metadata": {
        "id": "T9upij3er8UJ",
        "colab_type": "code",
        "colab": {}
      },
      "source": [
        "!ludwig experiment  --data_csv #name of dataset.csv \\\n",
        "--model_definition_file #name of YAML"
      ],
      "execution_count": null,
      "outputs": []
    },
    {
      "cell_type": "code",
      "metadata": {
        "id": "9DC49XsABklT",
        "colab_type": "code",
        "colab": {}
      },
      "source": [
        "from ludwig import visualize"
      ],
      "execution_count": null,
      "outputs": []
    },
    {
      "cell_type": "code",
      "metadata": {
        "id": "n-GAiJfFEWaK",
        "colab_type": "code",
        "colab": {}
      },
      "source": [
        "import pandas.util.testing as tm"
      ],
      "execution_count": null,
      "outputs": []
    },
    {
      "cell_type": "code",
      "metadata": {
        "id": "liqhosAKG3tJ",
        "colab_type": "code",
        "colab": {}
      },
      "source": [
        "from pandas.testing import assert_frame_equal"
      ],
      "execution_count": null,
      "outputs": []
    },
    {
      "cell_type": "code",
      "metadata": {
        "id": "nYB3B_h5Cr24",
        "colab_type": "code",
        "colab": {}
      },
      "source": [
        "import ludwig"
      ],
      "execution_count": null,
      "outputs": []
    },
    {
      "cell_type": "code",
      "metadata": {
        "id": "psT3R06I_FSE",
        "colab_type": "code",
        "colab": {}
      },
      "source": [
        "!ludwig predict  --data_csv ludwig_house.csv --model_path #The name of the model will be provided after the code has been run"
      ],
      "execution_count": null,
      "outputs": []
    },
    {
      "cell_type": "code",
      "metadata": {
        "id": "gWyPjdp9FICV",
        "colab_type": "code",
        "colab": {}
      },
      "source": [
        "!ludwig visualize --visualization learning_curves --training_statistics #The JSON file will be provided upon completing the above code"
      ],
      "execution_count": null,
      "outputs": []
    },
    {
      "cell_type": "code",
      "metadata": {
        "id": "3yBumgynEq5t",
        "colab_type": "code",
        "colab": {}
      },
      "source": [
        "!ludwig visualize --visualization compare_performance --test_statistics #experiment run filename.json #results filename.json"
      ],
      "execution_count": null,
      "outputs": []
    },
    {
      "cell_type": "markdown",
      "metadata": {
        "id": "7l1udt4iwxNc",
        "colab_type": "text"
      },
      "source": [
        "The values for the learning curves are saved as a JSON file, which provide the results for the training, test, and validation datasets. These results then contain the values for accuracy, loss, and hits at-k."
      ]
    }
  ]
}